{
 "cells": [
  {
   "cell_type": "code",
   "execution_count": 70,
   "id": "reduced-america",
   "metadata": {},
   "outputs": [],
   "source": [
    "#import libraries\n",
    "import pandas as pd\n",
    "from datetime import datetime\n",
    "\n",
    "#library that contains punctuation\n",
    "import string\n",
    "\n",
    "# load the data to dataframe 1 & 2\n",
    "df =  pd.read_csv('source_1.csv')\n",
    "df1 =  pd.read_csv('source_2.csv')"
   ]
  },
  {
   "cell_type": "code",
   "execution_count": 71,
   "id": "liable-layer",
   "metadata": {},
   "outputs": [],
   "source": [
    "def match_func(df,df1):\n",
    "    \n",
    "    #transform contents to lower case\n",
    "    df['name'] = df['name'].str.lower()\n",
    "    df1['name'] = df1['name'].str.lower()\n",
    "    \n",
    "    #creating new column \n",
    "    df['copy_of_id']=df['id']\n",
    "    df1['copy_of_id']=df1['id']\n",
    "    \n",
    "    #text preprocessing\n",
    "    string.punctuation\n",
    "    \n",
    "    #defining the function to remove punctuation\n",
    "    def remove_punctuation(text):\n",
    "        punctuationfree=\"\".join([i for i in text if i not in string.punctuation])\n",
    "        return punctuationfree\n",
    "    #storing the puntuation free text\n",
    "    df['clean']= df['name'].apply(lambda x:remove_punctuation(x))\n",
    "    \n",
    "    #use a .lower() lookup function to to effectively scan and Match the large dataset without Memory burst \n",
    "    def lookup(x, values):\n",
    "        for value in values:\n",
    "            if value.lower() in x.lower():\n",
    "                return value\n",
    "            \n",
    "    #add an extra column to df where the matched values from df1 are stored\n",
    "    df['matched'] = df['clean'].apply(lambda x: lookup(x, df1['name']))\n",
    "\n",
    "    \n",
    "    #do away with the duplicates\n",
    "    df = df.drop_duplicates(subset=['matched'])\n",
    "    df1 = df1.drop_duplicates(subset=['name'])\n",
    "    \n",
    "    df2 =df.merge(df1['copy_of_id'])\n",
    "    \n",
    "    df2[\"copy_of_id\"] = \"\"\n",
    "    \n",
    "    \n",
    "    #rename df1 columns\n",
    "    df1.rename(columns={'id': 'id', 'name': 'matched',  'copy_of_id': 'copy_of_id'}, inplace=True)\n",
    "    \n",
    "    # merge the two dataframes is the main thing\n",
    "    df3 = df2.merge(df1[['matched', 'copy_of_id']], how='left', on='matched')\n",
    "    \n",
    "    ## delete the column : name,id_2_x,clean,A\n",
    "    df4=df3.drop(labels=['name', 'copy_of_id_x','clean','matched'], axis=1)\n",
    "    df4.rename(columns={'id':'source_1','copy_of_id_y':'source_2'}, inplace=True)\n",
    "    \n",
    "    #export df4 to csv\n",
    "    df4.to_csv(r'kenkingmukabi@gro-intelligence.com.csv', index = False)\n",
    "    \n",
    "    return df4\n"
   ]
  },
  {
   "cell_type": "code",
   "execution_count": null,
   "id": "serious-facility",
   "metadata": {},
   "outputs": [],
   "source": []
  },
  {
   "cell_type": "code",
   "execution_count": 72,
   "id": "hidden-frontier",
   "metadata": {},
   "outputs": [
    {
     "name": "stdout",
     "output_type": "stream",
     "text": [
      "Duration: 0:00:48.083789\n"
     ]
    },
    {
     "name": "stderr",
     "output_type": "stream",
     "text": [
      "/usr/local/lib/python3.9/dist-packages/pandas/core/frame.py:4438: SettingWithCopyWarning: \n",
      "A value is trying to be set on a copy of a slice from a DataFrame\n",
      "\n",
      "See the caveats in the documentation: https://pandas.pydata.org/pandas-docs/stable/user_guide/indexing.html#returning-a-view-versus-a-copy\n",
      "  return super().rename(\n"
     ]
    }
   ],
   "source": [
    "start_time = datetime.now()\n",
    "\n",
    "#apply our created function \"match_func\" on the data\n",
    "df_test = match_func(df,df1)\n",
    "\n",
    "end_time = datetime.now()\n",
    "\n",
    "#print out time taken to execute\n",
    "print('Duration: {}'.format(end_time - start_time))"
   ]
  },
  {
   "cell_type": "code",
   "execution_count": 73,
   "id": "otherwise-pricing",
   "metadata": {},
   "outputs": [
    {
     "data": {
      "text/html": [
       "<div>\n",
       "<style scoped>\n",
       "    .dataframe tbody tr th:only-of-type {\n",
       "        vertical-align: middle;\n",
       "    }\n",
       "\n",
       "    .dataframe tbody tr th {\n",
       "        vertical-align: top;\n",
       "    }\n",
       "\n",
       "    .dataframe thead th {\n",
       "        text-align: right;\n",
       "    }\n",
       "</style>\n",
       "<table border=\"1\" class=\"dataframe\">\n",
       "  <thead>\n",
       "    <tr style=\"text-align: right;\">\n",
       "      <th></th>\n",
       "      <th>source_1</th>\n",
       "      <th>source_2</th>\n",
       "    </tr>\n",
       "  </thead>\n",
       "  <tbody>\n",
       "    <tr>\n",
       "      <th>0</th>\n",
       "      <td>0</td>\n",
       "      <td>20833.0</td>\n",
       "    </tr>\n",
       "    <tr>\n",
       "      <th>1</th>\n",
       "      <td>1</td>\n",
       "      <td>29911.0</td>\n",
       "    </tr>\n",
       "    <tr>\n",
       "      <th>2</th>\n",
       "      <td>6</td>\n",
       "      <td>2921.0</td>\n",
       "    </tr>\n",
       "    <tr>\n",
       "      <th>3</th>\n",
       "      <td>12</td>\n",
       "      <td>9050.0</td>\n",
       "    </tr>\n",
       "    <tr>\n",
       "      <th>4</th>\n",
       "      <td>12</td>\n",
       "      <td>39154.0</td>\n",
       "    </tr>\n",
       "  </tbody>\n",
       "</table>\n",
       "</div>"
      ],
      "text/plain": [
       "   source_1  source_2\n",
       "0         0   20833.0\n",
       "1         1   29911.0\n",
       "2         6    2921.0\n",
       "3        12    9050.0\n",
       "4        12   39154.0"
      ]
     },
     "execution_count": 73,
     "metadata": {},
     "output_type": "execute_result"
    }
   ],
   "source": [
    "df_test.head()"
   ]
  },
  {
   "cell_type": "code",
   "execution_count": null,
   "id": "twelve-possession",
   "metadata": {},
   "outputs": [],
   "source": []
  },
  {
   "cell_type": "code",
   "execution_count": null,
   "id": "serial-creativity",
   "metadata": {},
   "outputs": [],
   "source": []
  }
 ],
 "metadata": {
  "kernelspec": {
   "display_name": "Python 3",
   "language": "python",
   "name": "python3"
  },
  "language_info": {
   "codemirror_mode": {
    "name": "ipython",
    "version": 3
   },
   "file_extension": ".py",
   "mimetype": "text/x-python",
   "name": "python",
   "nbconvert_exporter": "python",
   "pygments_lexer": "ipython3",
   "version": "3.9.2"
  }
 },
 "nbformat": 4,
 "nbformat_minor": 5
}
